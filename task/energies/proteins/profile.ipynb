{
 "cells": [
  {
   "cell_type": "code",
   "execution_count": 1,
   "metadata": {},
   "outputs": [],
   "source": [
    "import os\n",
    "os.chdir(\"/home/guest_dyw/diffusion-sampler/\")\n",
    "\n",
    "import torch\n",
    "\n",
    "import timeit\n",
    "import cProfile\n",
    "\n",
    "from task import AlanineDipeptide\n",
    "from task.energies.proteins.alanine_dipeptide import AlanineDipeptideMP\n",
    "\n",
    "\n",
    "BATCH_SIZE = 300\n",
    "ITER = 1000\n",
    "\n",
    "\n",
    "def eval(energy):\n",
    "    return energy.energy_and_force(torch.randn(BATCH_SIZE, 66))\n",
    "\n",
    "\n",
    "def profile(energy):\n",
    "    def whole_eval():\n",
    "        for _ in range(ITER):\n",
    "            eval(energy)\n",
    "\n",
    "    cProfile.runctx(\n",
    "        \"whole_eval()\",\n",
    "        globals(),\n",
    "        locals(),\n",
    "        sort=\"tottime\"\n",
    "    )"
   ]
  },
  {
   "cell_type": "code",
   "execution_count": 5,
   "metadata": {},
   "outputs": [
    {
     "name": "stdout",
     "output_type": "stream",
     "text": [
      "43.59005120769143\n",
      "         59717004 function calls in 59.536 seconds\n",
      "\n",
      "   Ordered by: internal time\n",
      "\n",
      "   ncalls  tottime  percall  cumtime  percall filename:lineno(function)\n",
      "   300000   24.497    0.000   24.497    0.000 {built-in method openmm._openmm.Context_getState}\n",
      "   300000    4.857    0.000    4.857    0.000 {built-in method openmm._openmm.Context_setPositions}\n",
      "   300000    2.772    0.000    2.772    0.000 {built-in method builtins.dir}\n",
      "   300000    2.447    0.000   58.643    0.000 alanine_dipeptide.py:77(_energy_and_force)\n",
      "  1500000    2.424    0.000    6.460    0.000 unit_operators.py:80(_unit_class_mul)\n",
      " 17100000    2.111    0.000    2.111    0.000 unit.py:203(__hash__)\n",
      "  2400000    1.853    0.000    3.251    0.000 unit.py:175(__eq__)\n",
      "   300000    1.578    0.000    9.812    0.000 openmm.py:15677(getForces)\n",
      "  1200000    1.198    0.000    1.676    0.000 unit.py:235(__pow__)\n",
      "   600000    1.143    0.000    2.434    0.000 copy.py:128(deepcopy)\n",
      "  1800000    1.141    0.000    1.799    0.000 quantity.py:100(__init__)\n",
      "  4500000    1.029    0.000    1.416    0.000 unit.py:703(is_unit)\n",
      "   600000    0.898    0.000    5.451    0.000 quantity.py:666(_change_units_with_factor)\n",
      "  7500000    0.737    0.000    0.737    0.000 {built-in method builtins.isinstance}\n",
      "   600000    0.723    0.000    7.812    0.000 quantity.py:650(in_units_of)\n",
      "   900000    0.715    0.000    1.782    0.000 unit.py:338(is_dimensionless)\n",
      "  3000000    0.700    0.000    1.051    0.000 quantity.py:790(is_quantity)\n",
      "   600000    0.698    0.000    1.046    0.000 unit.py:308(is_compatible)\n",
      "  4800000    0.673    0.000    0.673    0.000 unit.py:468(get_name)\n",
      "   300000    0.647    0.000    1.346    0.000 quantity.py:297(reduce_unit)\n",
      "   900000    0.495    0.000    6.919    0.000 unit.py:217(__truediv__)\n",
      "   300000    0.489    0.000    2.904    0.000 quantity.py:356(__mul__)\n",
      "   600000    0.472    0.000    8.468    0.000 quantity.py:622(value_in_unit)\n",
      "   300000    0.436    0.000   24.932    0.000 openmm.py:13360(getState)\n",
      "     1000    0.433    0.000   59.409    0.059 alanine_dipeptide.py:89(energy_and_force)\n",
      "   600000    0.431    0.000    0.592    0.000 unit.py:354(conversion_factor_to)\n",
      "   300000    0.418    0.000    0.418    0.000 {method '__deepcopy__' of 'numpy.ndarray' objects}\n",
      "  1200000    0.407    0.000    2.083    0.000 {built-in method builtins.pow}\n",
      "   300000    0.377    0.000    0.452    0.000 copy.py:243(_keep_alive)\n",
      "   300000    0.363    0.000    0.839    0.000 openmm.py:15554(getPotentialEnergy)\n",
      "   300000    0.300    0.000    0.300    0.000 {built-in method numpy.empty}\n",
      "   300000    0.268    0.000    3.839    0.000 quantity.py:397(__truediv__)\n",
      "   300000    0.255    0.000    5.226    0.000 openmm.py:13195(setPositions)\n",
      "  1200000    0.181    0.000    0.181    0.000 {built-in method builtins.id}\n",
      "  1200000    0.169    0.000    0.169    0.000 {method 'get' of 'dict' objects}\n",
      "   300000    0.139    0.000    0.248    0.000 openmm.py:15703(_getVectorAsNumpy)\n",
      "   300000    0.137    0.000    0.222    0.000 openmm.py:15695(_getNumParticles)\n",
      "   300000    0.123    0.000    0.123    0.000 {built-in method openmm._openmm.State_getPotentialEnergy}\n",
      "     1000    0.116    0.000    0.116    0.000 {built-in method torch.randn}\n",
      "   300000    0.109    0.000    0.109    0.000 {built-in method openmm._openmm.State__getVectorAsNumpy}\n",
      "     1000    0.108    0.000    0.257    0.000 shape_base.py:372(stack)\n",
      "   300000    0.085    0.000    0.085    0.000 {built-in method openmm._openmm.State__getNumParticles}\n",
      "     1000    0.061    0.000    0.061    0.000 shape_base.py:455(<listcomp>)\n",
      "     1000    0.060    0.000    0.060    0.000 {built-in method torch.tensor}\n",
      "   300000    0.057    0.000    0.057    0.000 {built-in method builtins.getattr}\n",
      "   300000    0.047    0.000    0.047    0.000 {built-in method builtins.issubclass}\n",
      "   300000    0.042    0.000    0.042    0.000 copy.py:182(_deepcopy_atomic)\n",
      "     1000    0.036    0.000    0.056    0.000 shape_base.py:443(<listcomp>)\n",
      "     1000    0.032    0.000    0.032    0.000 shape_base.py:447(<setcomp>)\n",
      "   300000    0.020    0.000    0.020    0.000 {built-in method numpy.asanyarray}\n",
      "     1000    0.008    0.000   59.534    0.060 2552575332.py:17(eval)\n",
      "     1000    0.005    0.000    0.005    0.000 {method 'numpy' of 'torch._C.TensorBase' objects}\n",
      "     1000    0.005    0.000    0.005    0.000 {method 'view' of 'torch._C.TensorBase' objects}\n",
      "     1000    0.004    0.000    0.004    0.000 {built-in method torch.from_numpy}\n",
      "        1    0.003    0.003   59.536   59.536 2552575332.py:22(whole_eval)\n",
      "     1000    0.001    0.000    0.002    0.000 shape_base.py:362(_stack_dispatcher)\n",
      "     1000    0.001    0.000    0.001    0.000 shape_base.py:207(_arrays_for_stack_dispatcher)\n",
      "     1000    0.000    0.000    0.000    0.000 {built-in method builtins.hasattr}\n",
      "     1000    0.000    0.000    0.000    0.000 {built-in method numpy.core._multiarray_umath.normalize_axis_index}\n",
      "     1000    0.000    0.000    0.000    0.000 multiarray.py:153(concatenate)\n",
      "     1000    0.000    0.000    0.000    0.000 {built-in method builtins.len}\n",
      "        1    0.000    0.000   59.536   59.536 {built-in method builtins.exec}\n",
      "        1    0.000    0.000   59.536   59.536 <string>:1(<module>)\n",
      "        1    0.000    0.000    0.000    0.000 {method 'disable' of '_lsprof.Profiler' objects}\n",
      "\n",
      "\n"
     ]
    }
   ],
   "source": [
    "# Set specific implementation of protein energy function.\n",
    "\n",
    "energy = AlanineDipeptide(300)\n",
    "print(timeit.timeit(\"eval(energy)\", globals=globals(), number=ITER))\n",
    "# profile(energy)"
   ]
  },
  {
   "cell_type": "code",
   "execution_count": 6,
   "metadata": {},
   "outputs": [
    {
     "name": "stdout",
     "output_type": "stream",
     "text": [
      "20.441892966628075\n"
     ]
    }
   ],
   "source": [
    "energy = AlanineDipeptideMP(300, 48)\n",
    "print(timeit.timeit(\"eval(energy)\", globals=globals(), number=ITER))\n",
    "# profile(energy)"
   ]
  }
 ],
 "metadata": {
  "kernelspec": {
   "display_name": "Python 3",
   "language": "python",
   "name": "python3"
  },
  "language_info": {
   "codemirror_mode": {
    "name": "ipython",
    "version": 3
   },
   "file_extension": ".py",
   "mimetype": "text/x-python",
   "name": "python",
   "nbconvert_exporter": "python",
   "pygments_lexer": "ipython3",
   "version": "3.10.15"
  }
 },
 "nbformat": 4,
 "nbformat_minor": 2
}
