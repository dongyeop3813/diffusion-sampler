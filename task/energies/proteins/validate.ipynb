{
 "cells": [
  {
   "cell_type": "code",
   "execution_count": 1,
   "metadata": {},
   "outputs": [],
   "source": [
    "import timeit\n",
    "import numpy as np\n",
    "import torch\n",
    "\n",
    "from openmm import *\n",
    "from openmm.unit import *\n",
    "from openmm.app import *\n",
    "\n",
    "import pickle\n",
    "\n",
    "\n",
    "def investigate(obj):\n",
    "    return list(filter(lambda x: '__' not in x, dir(obj)))\n",
    "\n",
    "\n",
    "def size(obj):\n",
    "    return len(pickle.dumps(obj))\n",
    "\n",
    "\n",
    "R = 8.314e-3\n",
    "kBT = R * 300\n",
    "\n",
    "\n",
    "def state2energy(state):\n",
    "    energy = state.getPotentialEnergy().value_in_unit(\n",
    "    kilojoule / mole) / kBT\n",
    "\n",
    "    # get forces\n",
    "    force = -state.getForces(asNumpy=True).value_in_unit(\n",
    "        kilojoule / mole / nanometer) / kBT\n",
    "\n",
    "    return energy, force\n",
    "\n",
    "parameter_topology = AmberPrmtopFile('task/energies/proteins/aldp.prmtop')\n",
    "\n",
    "input_coordinate = AmberInpcrdFile('task/energies/proteins/aldp.crd')\n",
    "\n",
    "system = parameter_topology.createSystem(implicitSolvent=OBC1, constraints=None, nonbondedCutoff=None, hydrogenMass=None)"
   ]
  },
  {
   "cell_type": "code",
   "execution_count": 14,
   "metadata": {},
   "outputs": [
    {
     "data": {
      "text/plain": [
       "0"
      ]
     },
     "execution_count": 14,
     "metadata": {},
     "output_type": "execute_result"
    }
   ],
   "source": [
    "system.getNumConstraints()"
   ]
  },
  {
   "cell_type": "code",
   "execution_count": null,
   "metadata": {},
   "outputs": [],
   "source": [
    "context = Context(\n",
    "    system,\n",
    "    LangevinIntegrator(\n",
    "        300 * kelvin,\n",
    "        1. / picosecond,\n",
    "        1. * femtosecond\n",
    "    ),\n",
    "    Platform.getPlatformByName('CUDA'),\n",
    ")\n",
    "\n",
    "def energy_evaluation():\n",
    "    context.setPositions(input_coordinate.positions)\n",
    "    state = context.getState(getEnergy=True, getForces=True)\n",
    "\n",
    "    return state2energy(state)\n",
    "\n",
    "energy_evaluation()"
   ]
  },
  {
   "cell_type": "code",
   "execution_count": 4,
   "metadata": {},
   "outputs": [],
   "source": [
    "forcefield = ForceField('amber99sb.xml', 'implicit/obc1.xml')\n",
    "system2 = forcefield.createSystem(parameter_topology.topology)"
   ]
  },
  {
   "cell_type": "code",
   "execution_count": null,
   "metadata": {},
   "outputs": [],
   "source": [
    "context = Context(\n",
    "    system,\n",
    "    LangevinIntegrator(\n",
    "        300 * kelvin,\n",
    "        1. / picosecond,\n",
    "        1. * femtosecond\n",
    "    ),\n",
    "    Platform.getPlatformByName('CUDA'),\n",
    ")\n",
    "\n",
    "def energy_evaluation():\n",
    "    context.setPositions(input_coordinate.positions)\n",
    "    state = context.getState(getEnergy=True, getForces=True)\n",
    "\n",
    "    return state2energy(state)\n",
    "\n",
    "energy_evaluation()"
   ]
  }
 ],
 "metadata": {
  "kernelspec": {
   "display_name": "Python 3",
   "language": "python",
   "name": "python3"
  },
  "language_info": {
   "codemirror_mode": {
    "name": "ipython",
    "version": 3
   },
   "file_extension": ".py",
   "mimetype": "text/x-python",
   "name": "python",
   "nbconvert_exporter": "python",
   "pygments_lexer": "ipython3",
   "version": "3.10.15"
  }
 },
 "nbformat": 4,
 "nbformat_minor": 2
}
