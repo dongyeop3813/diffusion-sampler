{
 "cells": [
  {
   "cell_type": "code",
   "execution_count": 16,
   "metadata": {},
   "outputs": [],
   "source": [
    "import timeit\n",
    "import numpy as np\n",
    "import torch\n",
    "\n",
    "from openmm import *\n",
    "from openmm.unit import *\n",
    "from openmm.app import *\n",
    "\n",
    "import pickle\n",
    "\n",
    "\n",
    "def investigate(obj):\n",
    "    return list(filter(lambda x: '__' not in x, dir(obj)))\n",
    "\n",
    "\n",
    "def size(obj):\n",
    "    return len(pickle.dumps(obj))\n",
    "\n",
    "\n",
    "R = 8.314e-3\n",
    "kBT = R * 300\n",
    "\n",
    "\n",
    "def state2energy(state):\n",
    "    energy = state.getPotentialEnergy().value_in_unit(\n",
    "    kilojoule / mole) / kBT\n",
    "\n",
    "    # get forces\n",
    "    force = -state.getForces(asNumpy=True).value_in_unit(\n",
    "        kilojoule / mole / nanometer) / kBT\n",
    "\n",
    "    return energy, force\n",
    "\n",
    "parameter_topology = AmberPrmtopFile('task/energies/aldp/aldp.prmtop')\n",
    "\n",
    "input_coordinate = AmberInpcrdFile('task/energies/aldp/aldp.crd')\n",
    "input_coordinate_numpy = np.array(input_coordinate.positions.value_in_unit(nanometer)).reshape(66)\n",
    "batch_input_numpy = np.tile(input_coordinate_numpy, (300, 1))\n",
    "\n",
    "system = parameter_topology.createSystem(implicitSolvent=OBC1, constraints=None, nonbondedCutoff=None, hydrogenMass=None)"
   ]
  },
  {
   "cell_type": "code",
   "execution_count": 17,
   "metadata": {},
   "outputs": [
    {
     "data": {
      "text/plain": [
       "[<openmm.openmm.HarmonicBondForce; proxy of <Swig Object of type 'OpenMM::HarmonicBondForce *' at 0x7faadc75d8c0> >,\n",
       " <openmm.openmm.HarmonicAngleForce; proxy of <Swig Object of type 'OpenMM::HarmonicAngleForce *' at 0x7faadc75dad0> >,\n",
       " <openmm.openmm.PeriodicTorsionForce; proxy of <Swig Object of type 'OpenMM::PeriodicTorsionForce *' at 0x7faadc75c3f0> >,\n",
       " <openmm.openmm.NonbondedForce; proxy of <Swig Object of type 'OpenMM::NonbondedForce *' at 0x7faadc75e7f0> >,\n",
       " <openmm.openmm.CustomGBForce; proxy of <Swig Object of type 'OpenMM::CustomGBForce *' at 0x7faadc75d8f0> >,\n",
       " <openmm.openmm.CMMotionRemover; proxy of <Swig Object of type 'OpenMM::CMMotionRemover *' at 0x7faadc75dd70> >]"
      ]
     },
     "execution_count": 17,
     "metadata": {},
     "output_type": "execute_result"
    }
   ],
   "source": [
    "system.getForces()"
   ]
  },
  {
   "cell_type": "code",
   "execution_count": null,
   "metadata": {},
   "outputs": [],
   "source": [
    "import openmmtorch"
   ]
  },
  {
   "cell_type": "code",
   "execution_count": null,
   "metadata": {},
   "outputs": [],
   "source": [
    "openmmtorch.TorchForce"
   ]
  }
 ],
 "metadata": {
  "kernelspec": {
   "display_name": "Python 3",
   "language": "python",
   "name": "python3"
  },
  "language_info": {
   "codemirror_mode": {
    "name": "ipython",
    "version": 3
   },
   "file_extension": ".py",
   "mimetype": "text/x-python",
   "name": "python",
   "nbconvert_exporter": "python",
   "pygments_lexer": "ipython3",
   "version": "3.10.0"
  }
 },
 "nbformat": 4,
 "nbformat_minor": 2
}
