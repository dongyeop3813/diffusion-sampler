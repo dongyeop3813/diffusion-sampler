{
 "cells": [
  {
   "cell_type": "code",
   "execution_count": null,
   "metadata": {},
   "outputs": [],
   "source": [
    "import os\n",
    "os.chdir(\"/home/guest_dyw/diffusion-sampler/\")\n",
    "\n",
    "import neptune\n",
    "import pandas as pd\n",
    "\n",
    "import torch\n",
    "import matplotlib.pyplot as plt\n",
    "from matplotlib.ticker import ScalarFormatter\n",
    "\n",
    "import seaborn as sns\n",
    "\n",
    "sns.set_context(\"talk\")\n",
    "\n",
    "from utility.loader import load_all_from_experiment_path\n",
    "from task import get_energy_by_name\n",
    "\n",
    "energy = get_energy_by_name(\"ManyWell\", \"cpu\")\n",
    "project = neptune.init_project(project=\"dywoo1247/Diffusion-sampler\")\n",
    "run_table = project.fetch_runs_table().to_pandas()\n"
   ]
  },
  {
   "cell_type": "code",
   "execution_count": 95,
   "metadata": {},
   "outputs": [],
   "source": [
    "runs = run_table[(run_table[\"energy\"] == \"ManyWell\") & (run_table[\"sys/group_tags\"] == \"ADB\") & (run_table[\"parameters/model/base_std\"] != 8.0)]"
   ]
  },
  {
   "cell_type": "code",
   "execution_count": null,
   "metadata": {},
   "outputs": [],
   "source": [
    "runs[[\"sys/id\", \"parameters/model/base_std\", \"parameters/model/trajectory_length\"]]"
   ]
  },
  {
   "cell_type": "code",
   "execution_count": 97,
   "metadata": {},
   "outputs": [],
   "source": [
    "dict = {\n",
    "    \"Exact\": energy.sample(2000).to('cpu').norm(dim=-1, p=2)\n",
    "}"
   ]
  },
  {
   "cell_type": "code",
   "execution_count": null,
   "metadata": {},
   "outputs": [],
   "source": [
    "import math\n",
    "\n",
    "with torch.no_grad():\n",
    "    for i, row in runs.iterrows():\n",
    "        _, model, _, plotter = load_all_from_experiment_path(row[\"output_dir\"])\n",
    "\n",
    "        param = f\"{math.sqrt(row['parameters/model/t_scale']):.1f} {row['parameters/model/trajectory_length']}\"\n",
    "\n",
    "        dict[param] = model.sample(2000).to('cpu').norm(dim=-1, p=2)\n",
    "        \n",
    "        print(row['parameters/model/base_std'], row['parameters/model/trajectory_length'])\n",
    "        sample = model.sample(2000)\n",
    "        plotter.make_energy_histogram(sample)\n",
    "        plotter.cfg.sample_figure.fig_size = (12, 7 * 6)\n",
    "        plotter.cfg.sample_figure.projection_dims=[(0, 2), (2, 4), (4, 6), (6, 8), (8, 10), (10, 12), (12, 14), (14, 16), (16, 18), (18, 20), (20, 22), (22, 24)]\n",
    "        plotter.make_sample_plot(sample)\n"
   ]
  },
  {
   "cell_type": "code",
   "execution_count": 80,
   "metadata": {},
   "outputs": [],
   "source": [
    "new_dict = {\n",
    "    key.replace(' ', '\\n'): dict[key]\n",
    "    for key in dict\n",
    "}"
   ]
  },
  {
   "cell_type": "code",
   "execution_count": null,
   "metadata": {},
   "outputs": [],
   "source": [
    "fig = plt.figure(figsize=(10, 5))\n",
    "sns.violinplot(data=pd.DataFrame(new_dict))\n",
    "plt.ylim(6, 12)\n",
    "\n",
    "plt.grid(True, linestyle='--', alpha=0.3)\n",
    "\n",
    "plt.ylabel(\"sample norm\")\n",
    "plt.xlabel(\"base std\\ntrajectory length\")\n",
    "\n",
    "plt.show()"
   ]
  },
  {
   "cell_type": "code",
   "execution_count": null,
   "metadata": {},
   "outputs": [],
   "source": [
    "import matplotlib.pyplot as plt\n",
    "from matplotlib.ticker import ScalarFormatter\n",
    "\n",
    "import seaborn as sns\n",
    "\n",
    "sns.set_context(\"talk\")\n",
    "\n",
    "ax = df[df[\"std\"] == 1.0].plot.line(x=\"T\", y=\"ELBO\", ylim=[120, 164], label=\"std=1.0\", marker=\"o\")\n",
    "\n",
    "ax = df[df[\"std\"] == 2.0].plot.line(x=\"T\", y=\"ELBO\", ylim=[120, 164], ax=ax, label=\"std=2.0\", marker=\"o\")\n",
    "\n",
    "ax = df[df[\"std\"] == 4.0].plot.line(x=\"T\", y=\"ELBO\", ylim=[120, 164], ax=ax, label=\"std=4.0\", marker=\"o\")\n",
    "\n",
    "ax.set_yticks([130, 140, 150, 160])\n",
    "\n",
    "ax.set_xscale(\"log\")\n",
    "\n",
    "# Use ScalarFormatter for x-axis labels\n",
    "ax.xaxis.set_major_formatter(ScalarFormatter())\n",
    "\n",
    "# Optionally, turn off minor ticks\n",
    "ax.xaxis.set_minor_locator(plt.NullLocator())\n",
    "\n",
    "ax.set_xticks([128, 256, 512, 1024])\n",
    "ax.set_xticklabels([128, 256, 512, 1024])\n",
    "\n",
    "ax.set_xlabel(\"trajectory length\")\n",
    "ax.set_ylabel(\"ELBO\")\n",
    "\n",
    "plt.legend()\n",
    "\n",
    "# for i, v in enumerate(df[df[\"std\"] == 2.0][\"EUBO\"]):\n",
    "#     ax.text(i, v, f\"{v:.2f}\", ha='center', va='bottom', fontsize=12)\n",
    "\n",
    "plt.grid(True)\n",
    "\n",
    "plt.show()"
   ]
  }
 ],
 "metadata": {
  "kernelspec": {
   "display_name": "Python 3",
   "language": "python",
   "name": "python3"
  },
  "language_info": {
   "codemirror_mode": {
    "name": "ipython",
    "version": 3
   },
   "file_extension": ".py",
   "mimetype": "text/x-python",
   "name": "python",
   "nbconvert_exporter": "python",
   "pygments_lexer": "ipython3",
   "version": "3.10.0"
  }
 },
 "nbformat": 4,
 "nbformat_minor": 2
}
