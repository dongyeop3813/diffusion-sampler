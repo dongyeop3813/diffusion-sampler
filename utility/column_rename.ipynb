{
 "cells": [
  {
   "cell_type": "code",
   "execution_count": 2,
   "metadata": {},
   "outputs": [
    {
     "name": "stdout",
     "output_type": "stream",
     "text": [
      "[neptune] [info   ] Neptune initialized. Open in the app: https://app.neptune.ai/dywoo1247/Diffusion-sampler/\n"
     ]
    },
    {
     "data": {
      "application/vnd.jupyter.widget-view+json": {
       "model_id": "037aade903024fc6b4c53344a32fd4c9",
       "version_major": 2,
       "version_minor": 0
      },
      "text/plain": [
       "Fetching table...: 0 [00:00, ?/s]"
      ]
     },
     "metadata": {},
     "output_type": "display_data"
    }
   ],
   "source": [
    "import neptune\n",
    "\n",
    "project = neptune.init_project(project=\"dywoo1247/Diffusion-sampler\")\n",
    "run_table = project.fetch_runs_table().to_pandas()"
   ]
  },
  {
   "cell_type": "code",
   "execution_count": 3,
   "metadata": {},
   "outputs": [],
   "source": [
    "def copy_metric_column_in_neptune_run(run, old_name, new_name):\n",
    "    if run.exists(old_name) and not run.exists(new_name):\n",
    "        df = run[old_name].fetch_values()\n",
    "        for i, (step, value, timestamp) in df.iterrows():\n",
    "            run[new_name].append(value=value, step=int(step))\n",
    "\n",
    "def copy_column_in_neptune_run(run, old_name, new_name):\n",
    "    if run.exists(old_name) and not run.exists(new_name):\n",
    "        run[old_name] = run[new_name]\n",
    "\n",
    "def del_column_in_neptune_run(run, old_name):\n",
    "    if run.exists(old_name):\n",
    "        del run[old_name]"
   ]
  },
  {
   "cell_type": "code",
   "execution_count": 22,
   "metadata": {},
   "outputs": [
    {
     "name": "stderr",
     "output_type": "stream",
     "text": [
      "/tmp/ipykernel_1381371/3322536391.py:1: UserWarning: Boolean Series key will be reindexed to match DataFrame index.\n",
      "  filtered_ids = run_table[~run_table[\"parameters/energy/_target_\"].isna()][run_table[\"energy\"].isna()][\"sys/id\"]\n"
     ]
    }
   ],
   "source": [
    "filtered_ids = run_table[~run_table[\"parameters/energy/_target_\"].isna()][run_table[\"energy\"].isna()][\"sys/id\"]"
   ]
  },
  {
   "cell_type": "code",
   "execution_count": 23,
   "metadata": {},
   "outputs": [
    {
     "data": {
      "text/plain": [
       "129    SAMPLER-82\n",
       "130    SAMPLER-71\n",
       "131    SAMPLER-67\n",
       "132    SAMPLER-21\n",
       "133    SAMPLER-20\n",
       "134    SAMPLER-19\n",
       "135    SAMPLER-16\n",
       "136    SAMPLER-15\n",
       "Name: sys/id, dtype: object"
      ]
     },
     "execution_count": 23,
     "metadata": {},
     "output_type": "execute_result"
    }
   ],
   "source": [
    "filtered_ids"
   ]
  },
  {
   "cell_type": "code",
   "execution_count": null,
   "metadata": {},
   "outputs": [],
   "source": [
    "for id in filtered_ids:\n",
    "    run = neptune.init_run(with_id=id, project=\"dywoo1247/Diffusion-sampler\")\n",
    "    name = run[\"parameters/energy/_target_\"].fetch().split('.')[-1] + str()\n",
    "    dim = run[\"parameters/energy/dim\"].fetch()\n",
    "    if dim != 32:\n",
    "        name = name + dim\n",
    "    print(id, name)\n",
    "    run[\"energy\"] = name\n",
    "    run.stop()"
   ]
  },
  {
   "cell_type": "code",
   "execution_count": 5,
   "metadata": {},
   "outputs": [
    {
     "name": "stderr",
     "output_type": "stream",
     "text": [
      "[neptune] [warning] NeptuneWarning: The following monitoring options are disabled by default in interactive sessions: 'capture_stdout', 'capture_stderr', 'capture_traceback', and 'capture_hardware_metrics'. To enable them, set each parameter to 'True' when initializing the run. The monitoring will continue until you call run.stop() or the kernel stops. Also note: Your source files can only be tracked if you pass the path(s) to the 'source_code' argument. For help, see the Neptune docs: https://docs.neptune.ai/logging/source_code/\n"
     ]
    },
    {
     "name": "stdout",
     "output_type": "stream",
     "text": [
      "[neptune] [info   ] Neptune initialized. Open in the app: https://app.neptune.ai/dywoo1247/Diffusion-sampler/e/SAMPLER-712\n",
      "[neptune] [info   ] Shutting down background jobs, please wait a moment...\n",
      "[neptune] [info   ] Done!\n",
      "[neptune] [info   ] Waiting for the remaining 3 operations to synchronize with Neptune. Do not kill this process.\n",
      "[neptune] [info   ] All 3 operations synced, thanks for waiting!\n",
      "[neptune] [info   ] Explore the metadata in the Neptune app: https://app.neptune.ai/dywoo1247/Diffusion-sampler/e/SAMPLER-712/metadata\n",
      "[neptune] [info   ] Neptune initialized. Open in the app: https://app.neptune.ai/dywoo1247/Diffusion-sampler/e/SAMPLER-711\n",
      "[neptune] [info   ] Shutting down background jobs, please wait a moment...\n",
      "[neptune] [info   ] Done!\n",
      "[neptune] [info   ] Waiting for the remaining 3 operations to synchronize with Neptune. Do not kill this process.\n",
      "[neptune] [info   ] All 3 operations synced, thanks for waiting!\n",
      "[neptune] [info   ] Explore the metadata in the Neptune app: https://app.neptune.ai/dywoo1247/Diffusion-sampler/e/SAMPLER-711/metadata\n",
      "[neptune] [info   ] Neptune initialized. Open in the app: https://app.neptune.ai/dywoo1247/Diffusion-sampler/e/SAMPLER-710\n",
      "[neptune] [info   ] Shutting down background jobs, please wait a moment...\n",
      "[neptune] [info   ] Done!\n",
      "[neptune] [info   ] Waiting for the remaining 3 operations to synchronize with Neptune. Do not kill this process.\n",
      "[neptune] [info   ] All 3 operations synced, thanks for waiting!\n",
      "[neptune] [info   ] Explore the metadata in the Neptune app: https://app.neptune.ai/dywoo1247/Diffusion-sampler/e/SAMPLER-710/metadata\n",
      "[neptune] [info   ] Neptune initialized. Open in the app: https://app.neptune.ai/dywoo1247/Diffusion-sampler/e/SAMPLER-709\n",
      "[neptune] [info   ] Shutting down background jobs, please wait a moment...\n",
      "[neptune] [info   ] Done!\n",
      "[neptune] [info   ] Waiting for the remaining 3 operations to synchronize with Neptune. Do not kill this process.\n",
      "[neptune] [info   ] All 3 operations synced, thanks for waiting!\n",
      "[neptune] [info   ] Explore the metadata in the Neptune app: https://app.neptune.ai/dywoo1247/Diffusion-sampler/e/SAMPLER-709/metadata\n",
      "[neptune] [info   ] Neptune initialized. Open in the app: https://app.neptune.ai/dywoo1247/Diffusion-sampler/e/SAMPLER-708\n",
      "[neptune] [info   ] Shutting down background jobs, please wait a moment...\n",
      "[neptune] [info   ] Done!\n",
      "[neptune] [info   ] Waiting for the remaining 3 operations to synchronize with Neptune. Do not kill this process.\n",
      "[neptune] [info   ] All 3 operations synced, thanks for waiting!\n",
      "[neptune] [info   ] Explore the metadata in the Neptune app: https://app.neptune.ai/dywoo1247/Diffusion-sampler/e/SAMPLER-708/metadata\n",
      "[neptune] [info   ] Neptune initialized. Open in the app: https://app.neptune.ai/dywoo1247/Diffusion-sampler/e/SAMPLER-707\n",
      "[neptune] [info   ] Shutting down background jobs, please wait a moment...\n",
      "[neptune] [info   ] Done!\n",
      "[neptune] [info   ] Waiting for the remaining 3 operations to synchronize with Neptune. Do not kill this process.\n",
      "[neptune] [info   ] All 3 operations synced, thanks for waiting!\n",
      "[neptune] [info   ] Explore the metadata in the Neptune app: https://app.neptune.ai/dywoo1247/Diffusion-sampler/e/SAMPLER-707/metadata\n",
      "[neptune] [info   ] Neptune initialized. Open in the app: https://app.neptune.ai/dywoo1247/Diffusion-sampler/e/SAMPLER-706\n",
      "[neptune] [info   ] Shutting down background jobs, please wait a moment...\n",
      "[neptune] [info   ] Done!\n",
      "[neptune] [info   ] Waiting for the remaining 3 operations to synchronize with Neptune. Do not kill this process.\n",
      "[neptune] [info   ] All 3 operations synced, thanks for waiting!\n",
      "[neptune] [info   ] Explore the metadata in the Neptune app: https://app.neptune.ai/dywoo1247/Diffusion-sampler/e/SAMPLER-706/metadata\n",
      "[neptune] [info   ] Neptune initialized. Open in the app: https://app.neptune.ai/dywoo1247/Diffusion-sampler/e/SAMPLER-705\n",
      "[neptune] [info   ] Shutting down background jobs, please wait a moment...\n",
      "[neptune] [info   ] Done!\n",
      "[neptune] [info   ] Waiting for the remaining 3 operations to synchronize with Neptune. Do not kill this process.\n",
      "[neptune] [info   ] All 3 operations synced, thanks for waiting!\n",
      "[neptune] [info   ] Explore the metadata in the Neptune app: https://app.neptune.ai/dywoo1247/Diffusion-sampler/e/SAMPLER-705/metadata\n",
      "[neptune] [info   ] Neptune initialized. Open in the app: https://app.neptune.ai/dywoo1247/Diffusion-sampler/e/SAMPLER-703\n",
      "[neptune] [info   ] Shutting down background jobs, please wait a moment...\n",
      "[neptune] [info   ] Done!\n",
      "[neptune] [info   ] Waiting for the remaining 3 operations to synchronize with Neptune. Do not kill this process.\n",
      "[neptune] [info   ] All 3 operations synced, thanks for waiting!\n",
      "[neptune] [info   ] Explore the metadata in the Neptune app: https://app.neptune.ai/dywoo1247/Diffusion-sampler/e/SAMPLER-703/metadata\n",
      "[neptune] [info   ] Neptune initialized. Open in the app: https://app.neptune.ai/dywoo1247/Diffusion-sampler/e/SAMPLER-702\n",
      "[neptune] [info   ] Shutting down background jobs, please wait a moment...\n",
      "[neptune] [info   ] Done!\n",
      "[neptune] [info   ] Waiting for the remaining 3 operations to synchronize with Neptune. Do not kill this process.\n",
      "[neptune] [info   ] All 3 operations synced, thanks for waiting!\n",
      "[neptune] [info   ] Explore the metadata in the Neptune app: https://app.neptune.ai/dywoo1247/Diffusion-sampler/e/SAMPLER-702/metadata\n",
      "[neptune] [info   ] Neptune initialized. Open in the app: https://app.neptune.ai/dywoo1247/Diffusion-sampler/e/SAMPLER-700\n",
      "[neptune] [info   ] Shutting down background jobs, please wait a moment...\n",
      "[neptune] [info   ] Done!\n",
      "[neptune] [info   ] Waiting for the remaining 3 operations to synchronize with Neptune. Do not kill this process.\n",
      "[neptune] [info   ] All 3 operations synced, thanks for waiting!\n",
      "[neptune] [info   ] Explore the metadata in the Neptune app: https://app.neptune.ai/dywoo1247/Diffusion-sampler/e/SAMPLER-700/metadata\n",
      "[neptune] [info   ] Neptune initialized. Open in the app: https://app.neptune.ai/dywoo1247/Diffusion-sampler/e/SAMPLER-699\n",
      "[neptune] [info   ] Shutting down background jobs, please wait a moment...\n",
      "[neptune] [info   ] Done!\n",
      "[neptune] [info   ] Waiting for the remaining 3 operations to synchronize with Neptune. Do not kill this process.\n",
      "[neptune] [info   ] All 3 operations synced, thanks for waiting!\n",
      "[neptune] [info   ] Explore the metadata in the Neptune app: https://app.neptune.ai/dywoo1247/Diffusion-sampler/e/SAMPLER-699/metadata\n",
      "[neptune] [info   ] Neptune initialized. Open in the app: https://app.neptune.ai/dywoo1247/Diffusion-sampler/e/SAMPLER-697\n",
      "[neptune] [info   ] Shutting down background jobs, please wait a moment...\n",
      "[neptune] [info   ] Done!\n",
      "[neptune] [info   ] Waiting for the remaining 3 operations to synchronize with Neptune. Do not kill this process.\n",
      "[neptune] [info   ] All 3 operations synced, thanks for waiting!\n",
      "[neptune] [info   ] Explore the metadata in the Neptune app: https://app.neptune.ai/dywoo1247/Diffusion-sampler/e/SAMPLER-697/metadata\n",
      "[neptune] [info   ] Neptune initialized. Open in the app: https://app.neptune.ai/dywoo1247/Diffusion-sampler/e/SAMPLER-692\n",
      "[neptune] [info   ] Shutting down background jobs, please wait a moment...\n",
      "[neptune] [info   ] Done!\n",
      "[neptune] [info   ] Waiting for the remaining 3 operations to synchronize with Neptune. Do not kill this process.\n",
      "[neptune] [info   ] All 3 operations synced, thanks for waiting!\n",
      "[neptune] [info   ] Explore the metadata in the Neptune app: https://app.neptune.ai/dywoo1247/Diffusion-sampler/e/SAMPLER-692/metadata\n",
      "[neptune] [info   ] Neptune initialized. Open in the app: https://app.neptune.ai/dywoo1247/Diffusion-sampler/e/SAMPLER-675\n",
      "[neptune] [info   ] Shutting down background jobs, please wait a moment...\n",
      "[neptune] [info   ] Done!\n",
      "[neptune] [info   ] Waiting for the remaining 3 operations to synchronize with Neptune. Do not kill this process.\n",
      "[neptune] [info   ] All 3 operations synced, thanks for waiting!\n",
      "[neptune] [info   ] Explore the metadata in the Neptune app: https://app.neptune.ai/dywoo1247/Diffusion-sampler/e/SAMPLER-675/metadata\n",
      "[neptune] [info   ] Neptune initialized. Open in the app: https://app.neptune.ai/dywoo1247/Diffusion-sampler/e/SAMPLER-674\n",
      "[neptune] [info   ] Shutting down background jobs, please wait a moment...\n",
      "[neptune] [info   ] Done!\n",
      "[neptune] [info   ] Waiting for the remaining 3 operations to synchronize with Neptune. Do not kill this process.\n",
      "[neptune] [info   ] All 3 operations synced, thanks for waiting!\n",
      "[neptune] [info   ] Explore the metadata in the Neptune app: https://app.neptune.ai/dywoo1247/Diffusion-sampler/e/SAMPLER-674/metadata\n",
      "[neptune] [info   ] Neptune initialized. Open in the app: https://app.neptune.ai/dywoo1247/Diffusion-sampler/e/SAMPLER-672\n",
      "[neptune] [info   ] Shutting down background jobs, please wait a moment...\n",
      "[neptune] [info   ] Done!\n",
      "[neptune] [info   ] Waiting for the remaining 3 operations to synchronize with Neptune. Do not kill this process.\n",
      "[neptune] [info   ] All 3 operations synced, thanks for waiting!\n",
      "[neptune] [info   ] Explore the metadata in the Neptune app: https://app.neptune.ai/dywoo1247/Diffusion-sampler/e/SAMPLER-672/metadata\n",
      "[neptune] [info   ] Neptune initialized. Open in the app: https://app.neptune.ai/dywoo1247/Diffusion-sampler/e/SAMPLER-677\n",
      "[neptune] [info   ] Shutting down background jobs, please wait a moment...\n",
      "[neptune] [info   ] Done!\n",
      "[neptune] [info   ] Waiting for the remaining 3 operations to synchronize with Neptune. Do not kill this process.\n",
      "[neptune] [info   ] All 3 operations synced, thanks for waiting!\n",
      "[neptune] [info   ] Explore the metadata in the Neptune app: https://app.neptune.ai/dywoo1247/Diffusion-sampler/e/SAMPLER-677/metadata\n",
      "[neptune] [info   ] Neptune initialized. Open in the app: https://app.neptune.ai/dywoo1247/Diffusion-sampler/e/SAMPLER-676\n",
      "[neptune] [info   ] Shutting down background jobs, please wait a moment...\n",
      "[neptune] [info   ] Done!\n",
      "[neptune] [info   ] Waiting for the remaining 3 operations to synchronize with Neptune. Do not kill this process.\n",
      "[neptune] [info   ] All 3 operations synced, thanks for waiting!\n",
      "[neptune] [info   ] Explore the metadata in the Neptune app: https://app.neptune.ai/dywoo1247/Diffusion-sampler/e/SAMPLER-676/metadata\n",
      "[neptune] [info   ] Neptune initialized. Open in the app: https://app.neptune.ai/dywoo1247/Diffusion-sampler/e/SAMPLER-673\n",
      "[neptune] [info   ] Shutting down background jobs, please wait a moment...\n",
      "[neptune] [info   ] Done!\n",
      "[neptune] [info   ] Waiting for the remaining 3 operations to synchronize with Neptune. Do not kill this process.\n",
      "[neptune] [info   ] All 3 operations synced, thanks for waiting!\n",
      "[neptune] [info   ] Explore the metadata in the Neptune app: https://app.neptune.ai/dywoo1247/Diffusion-sampler/e/SAMPLER-673/metadata\n"
     ]
    }
   ],
   "source": [
    "filtered_ids = run_table[~run_table[\"energy/name\"].isna()][\"sys/id\"]\n",
    "for id in filtered_ids:\n",
    "    run = neptune.init_run(with_id=id, project=\"dywoo1247/Diffusion-sampler\")\n",
    "    name = run[\"energy/name\"].fetch()\n",
    "    del run[\"energy\"]\n",
    "    run[\"energy\"] = name\n",
    "    run.stop()"
   ]
  },
  {
   "cell_type": "code",
   "execution_count": null,
   "metadata": {},
   "outputs": [],
   "source": [
    "filtered_ids = run_table[~run_table[\"energy/name\"].isna()][\"sys/id\"]\n",
    "for id in filtered_ids:\n",
    "    run = neptune.init_run(with_id=id, project=\"dywoo1247/Diffusion-sampler\")\n",
    "    copy_column_in_neptune_run(run, \"eval/log_Z_lower_bound\", \"eval/ELBO\")\n",
    "    copy_column_in_neptune_run(run, \"eval/log_Z_learned\", \"eval/learned_logZ\")\n",
    "    copy_column_in_neptune_run(run, \"eval/log_Z_reweighted\", \"eval/logZ_IS\")\n",
    "\n",
    "    del_column_in_neptune_run(run, \"eval/log_Z_lower_bound\")\n",
    "    del_column_in_neptune_run(run, \"eval/log_Z_learned\")\n",
    "    del_column_in_neptune_run(run, \"eval/log_Z_reweighted\")\n",
    "\n",
    "    run.stop()"
   ]
  },
  {
   "cell_type": "code",
   "execution_count": null,
   "metadata": {},
   "outputs": [],
   "source": [
    "run = neptune.init_run(with_id=\"SAMPLER-670\", project=\"dywoo1247/Diffusion-sampler\")\n",
    "copy_column_in_neptune_run(run, \"eval/log_Z_lower_bound\", \"eval/ELBO\")\n",
    "copy_column_in_neptune_run(run, \"eval/log_Z_learned\", \"eval/learned_logZ\")\n",
    "copy_column_in_neptune_run(run, \"eval/log_Z_reweighted\", \"eval/logZ_IS\")\n",
    "\n",
    "del_column_in_neptune_run(run, \"eval/log_Z_lower_bound\")\n",
    "del_column_in_neptune_run(run, \"eval/log_Z_learned\")\n",
    "del_column_in_neptune_run(run, \"eval/log_Z_reweighted\")\n"
   ]
  }
 ],
 "metadata": {
  "kernelspec": {
   "display_name": "Python 3",
   "language": "python",
   "name": "python3"
  },
  "language_info": {
   "codemirror_mode": {
    "name": "ipython",
    "version": 3
   },
   "file_extension": ".py",
   "mimetype": "text/x-python",
   "name": "python",
   "nbconvert_exporter": "python",
   "pygments_lexer": "ipython3",
   "version": "3.10.0"
  }
 },
 "nbformat": 4,
 "nbformat_minor": 2
}
