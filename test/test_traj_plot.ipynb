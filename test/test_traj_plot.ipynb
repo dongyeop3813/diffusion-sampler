{
 "cells": [
  {
   "cell_type": "code",
   "execution_count": null,
   "metadata": {},
   "outputs": [],
   "source": [
    "import matplotlib.pyplot as plt\n",
    "\n",
    "import os\n",
    "os.chdir(\"/home/guest_dyw/diffusion-sampler/\")\n",
    "\n",
    "from energy import *"
   ]
  },
  {
   "cell_type": "code",
   "execution_count": null,
   "metadata": {},
   "outputs": [],
   "source": [
    "gmm = GMM25(device='cpu', dim=2)\n",
    "\n",
    "plotter = Plotter(gmm, (-15, 15), fig_size=(12, 6))"
   ]
  },
  {
   "cell_type": "code",
   "execution_count": null,
   "metadata": {},
   "outputs": [],
   "source": [
    "import torch\n",
    "time = torch.linspace(0, torch.pi, 100)\n",
    "traj = torch.stack([torch.cos(time), torch.sin(time)], dim=1).unsqueeze(0).repeat(10, 1, 1)\n",
    "\n",
    "plotter.make_trajectory_plot(traj)"
   ]
  }
 ],
 "metadata": {
  "kernelspec": {
   "display_name": "Python 3",
   "language": "python",
   "name": "python3"
  },
  "language_info": {
   "codemirror_mode": {
    "name": "ipython",
    "version": 3
   },
   "file_extension": ".py",
   "mimetype": "text/x-python",
   "name": "python",
   "nbconvert_exporter": "python",
   "pygments_lexer": "ipython3",
   "version": "3.10.0"
  }
 },
 "nbformat": 4,
 "nbformat_minor": 2
}
