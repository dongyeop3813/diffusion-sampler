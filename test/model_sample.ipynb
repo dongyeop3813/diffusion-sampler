{
 "cells": [
  {
   "cell_type": "code",
   "execution_count": null,
   "metadata": {},
   "outputs": [],
   "source": [
    "import matplotlib.pyplot as plt\n",
    "\n",
    "import torch\n",
    "\n",
    "import os\n",
    "os.chdir(\"/home/guest_dyw/diffusion-sampler/\")\n",
    "\n",
    "from models import get_model\n",
    "from energy import get_energy_function, Plotter\n",
    "\n",
    "from hydra import compose, initialize\n",
    "\n",
    "MODEL_PATH = \"./test/models/model copy.pt\""
   ]
  },
  {
   "cell_type": "code",
   "execution_count": null,
   "metadata": {},
   "outputs": [],
   "source": [
    "with initialize(config_path=\"../configs\", version_base=\"1.3\"):\n",
    "    cfg = compose(config_name=\"main.yaml\", overrides=[\"model=GFN-PIS\", \"energy=manywell\"])"
   ]
  },
  {
   "cell_type": "code",
   "execution_count": null,
   "metadata": {},
   "outputs": [],
   "source": [
    "energy = get_energy_function(cfg)\n",
    "model = get_model(cfg, energy).to('cuda:0')\n",
    "\n",
    "model.load_state_dict(torch.load(MODEL_PATH))"
   ]
  },
  {
   "cell_type": "code",
   "execution_count": null,
   "metadata": {},
   "outputs": [],
   "source": [
    "plotter = Plotter(\n",
    "    energy, \n",
    "    plotting_bounds=(-3, 3), \n",
    "    projection_dims=[\n",
    "        (i-1-((i-1) % 2), i) for i in range(1, 32)\n",
    "    ],\n",
    "    fig_size=(36, 100)\n",
    ")\n",
    "\n",
    "sample = model.sample(1000)\n",
    "\n",
    "plotter.make_plot(sample)\n",
    "\n",
    "plt.show()"
   ]
  },
  {
   "cell_type": "code",
   "execution_count": null,
   "metadata": {},
   "outputs": [],
   "source": [
    "init_state = model.generate_initial_state(100)\n",
    "\n",
    "traj, logpfs, logpbs = model.get_forward_trajectory(init_state)\n",
    "\n",
    "anim, _ , _ = plotter.make_sample_generation_animation(traj, 0, 1)"
   ]
  },
  {
   "cell_type": "code",
   "execution_count": null,
   "metadata": {},
   "outputs": [],
   "source": [
    "from IPython.display import HTML\n",
    "HTML(anim.to_jshtml())"
   ]
  }
 ],
 "metadata": {
  "kernelspec": {
   "display_name": "Python 3",
   "language": "python",
   "name": "python3"
  },
  "language_info": {
   "codemirror_mode": {
    "name": "ipython",
    "version": 3
   },
   "file_extension": ".py",
   "mimetype": "text/x-python",
   "name": "python",
   "nbconvert_exporter": "python",
   "pygments_lexer": "ipython3",
   "version": "3.10.0"
  }
 },
 "nbformat": 4,
 "nbformat_minor": 2
}
