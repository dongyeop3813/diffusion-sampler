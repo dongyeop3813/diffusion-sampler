{
 "cells": [
  {
   "cell_type": "code",
   "execution_count": null,
   "metadata": {},
   "outputs": [],
   "source": [
    "import matplotlib.pyplot as plt\n",
    "\n",
    "import torch\n",
    "\n",
    "import os\n",
    "os.chdir(\"/home/guest_dyw/diffusion-sampler/\")\n",
    "\n",
    "from models import *\n",
    "from energy import *\n",
    "\n",
    "from hydra import compose, initialize\n",
    "\n",
    "MODEL_PATH = \"./test/models/9gmm+GFN+ADB+Sample.pt\""
   ]
  },
  {
   "cell_type": "code",
   "execution_count": null,
   "metadata": {},
   "outputs": [],
   "source": [
    "with initialize(config_path=\"../configs\", version_base=\"1.3\"):\n",
    "    cfg = compose(config_name=\"main.yaml\", overrides=[\"experiment=AnnealedDB/Sample/GFN\", \"energy=9gmm\"])"
   ]
  },
  {
   "cell_type": "code",
   "execution_count": null,
   "metadata": {},
   "outputs": [],
   "source": [
    "energy = get_energy_function(cfg)\n",
    "model = get_model(cfg, energy).to('cuda:0')\n",
    "\n",
    "model.load_state_dict(torch.load(MODEL_PATH))"
   ]
  },
  {
   "cell_type": "code",
   "execution_count": null,
   "metadata": {},
   "outputs": [],
   "source": [
    "plotter = Plotter(energy, **cfg.eval.plot)"
   ]
  },
  {
   "cell_type": "code",
   "execution_count": null,
   "metadata": {},
   "outputs": [],
   "source": [
    "init_state = model.generate_initial_state(1)\n",
    "\n",
    "sample = energy.sample(1)\n",
    "\n",
    "traj, _, _ = model.get_forward_trajectory(init_state)\n",
    "\n",
    "plotter.make_trajectory_plot(traj)\n",
    "\n",
    "plt.show()"
   ]
  }
 ],
 "metadata": {
  "kernelspec": {
   "display_name": "Python 3",
   "language": "python",
   "name": "python3"
  },
  "language_info": {
   "codemirror_mode": {
    "name": "ipython",
    "version": 3
   },
   "file_extension": ".py",
   "mimetype": "text/x-python",
   "name": "python",
   "nbconvert_exporter": "python",
   "pygments_lexer": "ipython3",
   "version": "3.10.0"
  }
 },
 "nbformat": 4,
 "nbformat_minor": 2
}
